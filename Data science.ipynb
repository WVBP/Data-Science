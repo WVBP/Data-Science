{
 "cells": [
  {
   "cell_type": "markdown",
   "metadata": {},
   "source": [
    "# Introduction to The Test"
   ]
  },
  {
   "cell_type": "markdown",
   "metadata": {},
   "source": [
    "## Introduction\n",
    "\n",
    "This is a test with various objectives to acomplish"
   ]
  },
  {
   "cell_type": "markdown",
   "metadata": {},
   "source": [
    "## Data Science Languages\n",
    "\n",
    "The main languages used in data science are:\n",
    "\n",
    "1. **Python**\n",
    "2. **R**\n",
    "3. **SQL**\n",
    "4. **Julia**\n",
    "5. **Scala**"
   ]
  },
  {
   "cell_type": "markdown",
   "metadata": {},
   "source": [
    "## Data Science Libraries\n",
    "\n",
    "### Python\n",
    "* **NumPy**: Numerical operations and array manipulation.\n",
    "* **Pandas**: Manipulation and analysis of structured data.\n",
    "* **Matplotlib/Seaborn**: Data visualization.\n",
    "* **Scikit-learn**: Machine learning algorithms.\n",
    "* **TensorFlow/PyTorch**: Deep learning.\n",
    "\n",
    "### R\n",
    "* **dplyr**: Data manipulation.\n",
    "* **ggplot2**: Data visualization.\n",
    "* **caret**: Training predictive models.\n",
    "* **tidyr**: Data cleaning.\n",
    "* **shiny**: Interactive web applications."
   ]
  },
  {
   "cell_type": "markdown",
   "metadata": {},
   "source": [
    "## Data Science Tools\n",
    "\n",
    "| Category | Tool | Description |\n",
    "|----------|------|-------------|\n",
    "| Development Environments | Jupyter Notebook | Interactive environment for code, text, and visualizations |\n",
    "| | RStudio | IDE for R |\n",
    "| | VS Code | Extensible code editor |\n",
    "| Visualization | Tableau | Data visualization platform |\n",
    "| | Power BI | Business intelligence tool |\n",
    "| | D3.js | JavaScript library for interactive visualizations |\n",
    "| Big Data | Apache Hadoop | Framework for distributed processing |\n",
    "| | Apache Spark | Unified analytics engine for large-scale data processing |\n",
    "| | Apache Kafka | Data streaming platform |\n",
    "| Databases | PostgreSQL | Relational database management system |\n",
    "| | MongoDB | NoSQL database |\n",
    "| | Redis | In-memory data structure store |"
   ]
  },
  {
   "cell_type": "markdown",
   "metadata": {},
   "source": [
    "## Examples of Arithmetic Operations\n",
    "\n",
    "\n",
    "* Addition: `a + b`\n",
    "* Subtraction: `a - b`\n",
    "* Multiplication: `a * b`\n",
    "* Division: `a / b`\n",
    "* Integer division: `a // b`\n",
    "* Modulus (remainder): `a % b`\n",
    "* Exponentiation: `a ** b`\n"
   ]
  },
  {
   "cell_type": "code",
   "execution_count": 10,
   "metadata": {},
   "outputs": [
    {
     "name": "stdout",
     "output_type": "stream",
     "text": [
      "Addition: 4 + 3 = 7\n",
      "Multiplication: 4 * 3 = 12\n"
     ]
    }
   ],
   "source": [
    "# Examples of arithmetic operations\n",
    "a = 4\n",
    "b = 3\n",
    "\n",
    "\n",
    "addition = a + b\n",
    "print(f\"Addition: {a} + {b} = {addition}\")\n",
    "\n",
    "\n",
    "multiplication = a * b\n",
    "print(f\"Multiplication: {a} * {b} = {multiplication}\")\n",
    "\n"
   ]
  },
  {
   "cell_type": "code",
   "execution_count": 11,
   "metadata": {},
   "outputs": [
    {
     "name": "stdout",
     "output_type": "stream",
     "text": [
      "60 minutes = 1 hour(s) and 0 minute(s)\n",
      "92 minutes = 1 hour(s) and 32 minute(s)\n",
      "360 minutes = 6 hour(s) and 0 minute(s)\n",
      "444 minutes = 7 hour(s) and 24 minute(s)\n"
     ]
    }
   ],
   "source": [
    "def minutes_to_hours(minutes):\n",
    "\n",
    "    hours = minutes // 60\n",
    "    remaining_minutes = minutes % 60\n",
    "    return hours, remaining_minutes\n",
    "\n",
    "# Conversion examples\n",
    "examples = [60, 92, 360, 444]\n",
    "\n",
    "for min in examples:\n",
    "    hours, rem_min = minutes_to_hours(min)\n",
    "    print(f\"{min} minutes = {hours} hour(s) and {rem_min} minute(s)\")"
   ]
  },
  {
   "cell_type": "code",
   "execution_count": 12,
   "metadata": {},
   "outputs": [
    {
     "name": "stdout",
     "output_type": "stream",
     "text": [
      "TO DO OBJECTIVES:\n",
      "1. Go to the park\n",
      "2. Go to the gym\n",
      "3. Do the groceries\n",
      "4. Visit a friend\n",
      "5. Play the guitar\n"
     ]
    }
   ],
   "source": [
    "def display_objectives():\n",
    "\n",
    "    objectives = [\n",
    "        \"Go to the park\",\n",
    "        \"Go to the gym\",\n",
    "        \"Do the groceries\",\n",
    "        \"Visit a friend\",\n",
    "        \"Play the guitar\"\n",
    "    ]\n",
    "    \n",
    "    print(\"TO DO OBJECTIVES:\")\n",
    "    for i, objective in enumerate(objectives, 1):\n",
    "        print(f\"{i}. {objective}\")\n",
    "    \n",
    "    return objectives\n",
    "\n",
    "# Execute the function to display the objectives\n",
    "my_objectives = display_objectives()"
   ]
  },
  {
   "cell_type": "markdown",
   "metadata": {},
   "source": [
    "## Author\n",
    "\n",
    "**Name:** [Vicente Bustamante]\n",
    "**Email:** [v.bustamanteprez@uandresbello.edu]  \n",
    "**Date:** Feb 20, 2001"
   ]
  }
 ],
 "metadata": {
  "kernelspec": {
   "display_name": "Python 3 (ipykernel)",
   "language": "python",
   "name": "python3"
  },
  "language_info": {
   "codemirror_mode": {
    "name": "ipython",
    "version": 3
   },
   "file_extension": ".py",
   "mimetype": "text/x-python",
   "name": "python",
   "nbconvert_exporter": "python",
   "pygments_lexer": "ipython3",
   "version": "3.12.8"
  }
 },
 "nbformat": 4,
 "nbformat_minor": 4
}
